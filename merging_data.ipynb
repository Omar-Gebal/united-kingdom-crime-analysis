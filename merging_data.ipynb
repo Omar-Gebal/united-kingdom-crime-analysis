{
 "cells": [
  {
   "cell_type": "code",
   "execution_count": 1,
   "metadata": {},
   "outputs": [],
   "source": [
    "import os\n",
    "import pandas as pd"
   ]
  },
  {
   "cell_type": "markdown",
   "metadata": {},
   "source": [
    "Merging all the datasets from all police departments in 2023\n"
   ]
  },
  {
   "cell_type": "code",
   "execution_count": 2,
   "metadata": {},
   "outputs": [
    {
     "name": "stderr",
     "output_type": "stream",
     "text": [
      "<>:1: SyntaxWarning: invalid escape sequence '\\s'\n",
      "<>:1: SyntaxWarning: invalid escape sequence '\\s'\n",
      "C:\\Users\\lenovo\\AppData\\Local\\Temp\\ipykernel_23164\\2710348634.py:1: SyntaxWarning: invalid escape sequence '\\s'\n",
      "  folder_path = \"E:\\sherry\\gp\\data-2023\"\n"
     ]
    }
   ],
   "source": [
    "folder_path = \"E:\\sherry\\gp\\data-2023\"\n",
    "files = os.listdir(folder_path)\n",
    "\n",
    "# Filter out non-CSV files\n",
    "csv_files = [file for file in files if file.endswith('.csv')]\n",
    "\n",
    "merged_data = pd.DataFrame()\n",
    "\n",
    "for csv_file in csv_files:\n",
    "    file_path = os.path.join(folder_path, csv_file)\n",
    "    df = pd.read_csv(file_path)\n",
    "    merged_data = pd.concat([merged_data, df], ignore_index=True)\n",
    "        \n",
    "\n"
   ]
  },
  {
   "cell_type": "code",
   "execution_count": 4,
   "metadata": {},
   "outputs": [
    {
     "data": {
      "text/html": [
       "<div>\n",
       "<style scoped>\n",
       "    .dataframe tbody tr th:only-of-type {\n",
       "        vertical-align: middle;\n",
       "    }\n",
       "\n",
       "    .dataframe tbody tr th {\n",
       "        vertical-align: top;\n",
       "    }\n",
       "\n",
       "    .dataframe thead th {\n",
       "        text-align: right;\n",
       "    }\n",
       "</style>\n",
       "<table border=\"1\" class=\"dataframe\">\n",
       "  <thead>\n",
       "    <tr style=\"text-align: right;\">\n",
       "      <th></th>\n",
       "      <th>Crime ID</th>\n",
       "      <th>Month</th>\n",
       "      <th>Reported by</th>\n",
       "      <th>Falls within</th>\n",
       "      <th>Longitude</th>\n",
       "      <th>Latitude</th>\n",
       "      <th>Location</th>\n",
       "      <th>LSOA code</th>\n",
       "      <th>LSOA name</th>\n",
       "      <th>Crime type</th>\n",
       "      <th>Last outcome category</th>\n",
       "      <th>Context</th>\n",
       "    </tr>\n",
       "  </thead>\n",
       "  <tbody>\n",
       "    <tr>\n",
       "      <th>0</th>\n",
       "      <td>NaN</td>\n",
       "      <td>2023-01</td>\n",
       "      <td>Avon and Somerset Constabulary</td>\n",
       "      <td>Avon and Somerset Constabulary</td>\n",
       "      <td>-2.491616</td>\n",
       "      <td>51.424619</td>\n",
       "      <td>On or near Julius Place</td>\n",
       "      <td>E01014399</td>\n",
       "      <td>Bath and North East Somerset 001A</td>\n",
       "      <td>Anti-social behaviour</td>\n",
       "      <td>NaN</td>\n",
       "      <td>NaN</td>\n",
       "    </tr>\n",
       "    <tr>\n",
       "      <th>1</th>\n",
       "      <td>ab9ed9e3b1aca933e1c34998e0096d337896e18e255680...</td>\n",
       "      <td>2023-01</td>\n",
       "      <td>Avon and Somerset Constabulary</td>\n",
       "      <td>Avon and Somerset Constabulary</td>\n",
       "      <td>-2.491146</td>\n",
       "      <td>51.425008</td>\n",
       "      <td>On or near Maximus Gardens</td>\n",
       "      <td>E01014399</td>\n",
       "      <td>Bath and North East Somerset 001A</td>\n",
       "      <td>Drugs</td>\n",
       "      <td>Unable to prosecute suspect</td>\n",
       "      <td>NaN</td>\n",
       "    </tr>\n",
       "    <tr>\n",
       "      <th>2</th>\n",
       "      <td>cdb81077299dc67d8fc95c0fe6392d7c9e1135a64ed13d...</td>\n",
       "      <td>2023-01</td>\n",
       "      <td>Avon and Somerset Constabulary</td>\n",
       "      <td>Avon and Somerset Constabulary</td>\n",
       "      <td>-2.491616</td>\n",
       "      <td>51.424619</td>\n",
       "      <td>On or near Julius Place</td>\n",
       "      <td>E01014399</td>\n",
       "      <td>Bath and North East Somerset 001A</td>\n",
       "      <td>Drugs</td>\n",
       "      <td>Unable to prosecute suspect</td>\n",
       "      <td>NaN</td>\n",
       "    </tr>\n",
       "    <tr>\n",
       "      <th>3</th>\n",
       "      <td>fd998d416e135f955bdb4cf4cd0781b0c102a0ddf2160e...</td>\n",
       "      <td>2023-01</td>\n",
       "      <td>Avon and Somerset Constabulary</td>\n",
       "      <td>Avon and Somerset Constabulary</td>\n",
       "      <td>-2.509285</td>\n",
       "      <td>51.409716</td>\n",
       "      <td>On or near Barnard Walk</td>\n",
       "      <td>E01014399</td>\n",
       "      <td>Bath and North East Somerset 001A</td>\n",
       "      <td>Vehicle crime</td>\n",
       "      <td>Status update unavailable</td>\n",
       "      <td>NaN</td>\n",
       "    </tr>\n",
       "    <tr>\n",
       "      <th>4</th>\n",
       "      <td>94c4f121096271e4059bcc2200c03e3d54203d89284c16...</td>\n",
       "      <td>2023-01</td>\n",
       "      <td>Avon and Somerset Constabulary</td>\n",
       "      <td>Avon and Somerset Constabulary</td>\n",
       "      <td>-2.509285</td>\n",
       "      <td>51.409716</td>\n",
       "      <td>On or near Barnard Walk</td>\n",
       "      <td>E01014399</td>\n",
       "      <td>Bath and North East Somerset 001A</td>\n",
       "      <td>Violence and sexual offences</td>\n",
       "      <td>Offender given a caution</td>\n",
       "      <td>NaN</td>\n",
       "    </tr>\n",
       "  </tbody>\n",
       "</table>\n",
       "</div>"
      ],
      "text/plain": [
       "                                            Crime ID    Month  \\\n",
       "0                                                NaN  2023-01   \n",
       "1  ab9ed9e3b1aca933e1c34998e0096d337896e18e255680...  2023-01   \n",
       "2  cdb81077299dc67d8fc95c0fe6392d7c9e1135a64ed13d...  2023-01   \n",
       "3  fd998d416e135f955bdb4cf4cd0781b0c102a0ddf2160e...  2023-01   \n",
       "4  94c4f121096271e4059bcc2200c03e3d54203d89284c16...  2023-01   \n",
       "\n",
       "                      Reported by                    Falls within  Longitude  \\\n",
       "0  Avon and Somerset Constabulary  Avon and Somerset Constabulary  -2.491616   \n",
       "1  Avon and Somerset Constabulary  Avon and Somerset Constabulary  -2.491146   \n",
       "2  Avon and Somerset Constabulary  Avon and Somerset Constabulary  -2.491616   \n",
       "3  Avon and Somerset Constabulary  Avon and Somerset Constabulary  -2.509285   \n",
       "4  Avon and Somerset Constabulary  Avon and Somerset Constabulary  -2.509285   \n",
       "\n",
       "    Latitude                    Location  LSOA code  \\\n",
       "0  51.424619     On or near Julius Place  E01014399   \n",
       "1  51.425008  On or near Maximus Gardens  E01014399   \n",
       "2  51.424619     On or near Julius Place  E01014399   \n",
       "3  51.409716     On or near Barnard Walk  E01014399   \n",
       "4  51.409716     On or near Barnard Walk  E01014399   \n",
       "\n",
       "                           LSOA name                    Crime type  \\\n",
       "0  Bath and North East Somerset 001A         Anti-social behaviour   \n",
       "1  Bath and North East Somerset 001A                         Drugs   \n",
       "2  Bath and North East Somerset 001A                         Drugs   \n",
       "3  Bath and North East Somerset 001A                 Vehicle crime   \n",
       "4  Bath and North East Somerset 001A  Violence and sexual offences   \n",
       "\n",
       "         Last outcome category  Context  \n",
       "0                          NaN      NaN  \n",
       "1  Unable to prosecute suspect      NaN  \n",
       "2  Unable to prosecute suspect      NaN  \n",
       "3    Status update unavailable      NaN  \n",
       "4     Offender given a caution      NaN  "
      ]
     },
     "execution_count": 4,
     "metadata": {},
     "output_type": "execute_result"
    }
   ],
   "source": [
    "#Viewing the dataset now\n",
    "merged_data.head()"
   ]
  },
  {
   "cell_type": "markdown",
   "metadata": {},
   "source": [
    "Dropping unnecessary columns"
   ]
  },
  {
   "cell_type": "code",
   "execution_count": 5,
   "metadata": {},
   "outputs": [],
   "source": [
    "merged_data.drop(columns=[\"Crime ID\", \"Reported by\", \"Context\"], inplace=True, errors='ignore')\n"
   ]
  },
  {
   "cell_type": "markdown",
   "metadata": {},
   "source": [
    "Saving the new dataset"
   ]
  },
  {
   "cell_type": "code",
   "execution_count": 6,
   "metadata": {},
   "outputs": [
    {
     "name": "stderr",
     "output_type": "stream",
     "text": [
      "<>:1: SyntaxWarning: invalid escape sequence '\\s'\n",
      "<>:1: SyntaxWarning: invalid escape sequence '\\s'\n",
      "C:\\Users\\lenovo\\AppData\\Local\\Temp\\ipykernel_23164\\1112778487.py:1: SyntaxWarning: invalid escape sequence '\\s'\n",
      "  output_file = \"E:\\sherry\\gp\\merged_data_2023.csv\"\n"
     ]
    }
   ],
   "source": [
    "output_file = \"E:\\sherry\\gp\\merged_data_2023.csv\"\n",
    "merged_data.to_csv(output_file, index=False)\n"
   ]
  }
 ],
 "metadata": {
  "kernelspec": {
   "display_name": "Python 3",
   "language": "python",
   "name": "python3"
  },
  "language_info": {
   "codemirror_mode": {
    "name": "ipython",
    "version": 3
   },
   "file_extension": ".py",
   "mimetype": "text/x-python",
   "name": "python",
   "nbconvert_exporter": "python",
   "pygments_lexer": "ipython3",
   "version": "3.12.0"
  }
 },
 "nbformat": 4,
 "nbformat_minor": 2
}
