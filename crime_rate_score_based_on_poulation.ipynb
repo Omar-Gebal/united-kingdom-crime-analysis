{
 "cells": [
  {
   "cell_type": "code",
   "execution_count": 1,
   "metadata": {},
   "outputs": [],
   "source": [
    "import geopandas as gpd\n",
    "import pandas as pd\n",
    "from shapely.geometry import Point\n",
    "from pyproj import Transformer\n",
    "import matplotlib.pyplot as plt\n",
    "import seaborn as sns\n"
   ]
  },
  {
   "cell_type": "code",
   "execution_count": 2,
   "metadata": {},
   "outputs": [
    {
     "data": {
      "text/html": [
       "<div>\n",
       "<style scoped>\n",
       "    .dataframe tbody tr th:only-of-type {\n",
       "        vertical-align: middle;\n",
       "    }\n",
       "\n",
       "    .dataframe tbody tr th {\n",
       "        vertical-align: top;\n",
       "    }\n",
       "\n",
       "    .dataframe thead th {\n",
       "        text-align: right;\n",
       "    }\n",
       "</style>\n",
       "<table border=\"1\" class=\"dataframe\">\n",
       "  <thead>\n",
       "    <tr style=\"text-align: right;\">\n",
       "      <th></th>\n",
       "      <th>Month</th>\n",
       "      <th>Falls within</th>\n",
       "      <th>Longitude</th>\n",
       "      <th>Latitude</th>\n",
       "      <th>Location</th>\n",
       "      <th>LSOA code</th>\n",
       "      <th>LSOA name</th>\n",
       "      <th>Crime type</th>\n",
       "      <th>Last outcome category</th>\n",
       "    </tr>\n",
       "  </thead>\n",
       "  <tbody>\n",
       "    <tr>\n",
       "      <th>0</th>\n",
       "      <td>2023-01</td>\n",
       "      <td>Avon and Somerset Constabulary</td>\n",
       "      <td>-2.491616</td>\n",
       "      <td>51.424619</td>\n",
       "      <td>On or near Julius Place</td>\n",
       "      <td>E01014399</td>\n",
       "      <td>Bath and North East Somerset 001A</td>\n",
       "      <td>Anti-social behaviour</td>\n",
       "      <td>Not documented</td>\n",
       "    </tr>\n",
       "    <tr>\n",
       "      <th>1</th>\n",
       "      <td>2023-01</td>\n",
       "      <td>Avon and Somerset Constabulary</td>\n",
       "      <td>-2.491146</td>\n",
       "      <td>51.425008</td>\n",
       "      <td>On or near Maximus Gardens</td>\n",
       "      <td>E01014399</td>\n",
       "      <td>Bath and North East Somerset 001A</td>\n",
       "      <td>Drugs</td>\n",
       "      <td>Unable to prosecute suspect</td>\n",
       "    </tr>\n",
       "    <tr>\n",
       "      <th>2</th>\n",
       "      <td>2023-01</td>\n",
       "      <td>Avon and Somerset Constabulary</td>\n",
       "      <td>-2.491616</td>\n",
       "      <td>51.424619</td>\n",
       "      <td>On or near Julius Place</td>\n",
       "      <td>E01014399</td>\n",
       "      <td>Bath and North East Somerset 001A</td>\n",
       "      <td>Drugs</td>\n",
       "      <td>Unable to prosecute suspect</td>\n",
       "    </tr>\n",
       "    <tr>\n",
       "      <th>3</th>\n",
       "      <td>2023-01</td>\n",
       "      <td>Avon and Somerset Constabulary</td>\n",
       "      <td>-2.509285</td>\n",
       "      <td>51.409716</td>\n",
       "      <td>On or near Barnard Walk</td>\n",
       "      <td>E01014399</td>\n",
       "      <td>Bath and North East Somerset 001A</td>\n",
       "      <td>Vehicle crime</td>\n",
       "      <td>Status update unavailable</td>\n",
       "    </tr>\n",
       "    <tr>\n",
       "      <th>4</th>\n",
       "      <td>2023-01</td>\n",
       "      <td>Avon and Somerset Constabulary</td>\n",
       "      <td>-2.509285</td>\n",
       "      <td>51.409716</td>\n",
       "      <td>On or near Barnard Walk</td>\n",
       "      <td>E01014399</td>\n",
       "      <td>Bath and North East Somerset 001A</td>\n",
       "      <td>Violence and sexual offences</td>\n",
       "      <td>Offender given a caution</td>\n",
       "    </tr>\n",
       "  </tbody>\n",
       "</table>\n",
       "</div>"
      ],
      "text/plain": [
       "     Month                    Falls within  Longitude   Latitude  \\\n",
       "0  2023-01  Avon and Somerset Constabulary  -2.491616  51.424619   \n",
       "1  2023-01  Avon and Somerset Constabulary  -2.491146  51.425008   \n",
       "2  2023-01  Avon and Somerset Constabulary  -2.491616  51.424619   \n",
       "3  2023-01  Avon and Somerset Constabulary  -2.509285  51.409716   \n",
       "4  2023-01  Avon and Somerset Constabulary  -2.509285  51.409716   \n",
       "\n",
       "                     Location  LSOA code                          LSOA name  \\\n",
       "0     On or near Julius Place  E01014399  Bath and North East Somerset 001A   \n",
       "1  On or near Maximus Gardens  E01014399  Bath and North East Somerset 001A   \n",
       "2     On or near Julius Place  E01014399  Bath and North East Somerset 001A   \n",
       "3     On or near Barnard Walk  E01014399  Bath and North East Somerset 001A   \n",
       "4     On or near Barnard Walk  E01014399  Bath and North East Somerset 001A   \n",
       "\n",
       "                     Crime type        Last outcome category  \n",
       "0         Anti-social behaviour               Not documented  \n",
       "1                         Drugs  Unable to prosecute suspect  \n",
       "2                         Drugs  Unable to prosecute suspect  \n",
       "3                 Vehicle crime    Status update unavailable  \n",
       "4  Violence and sexual offences     Offender given a caution  "
      ]
     },
     "execution_count": 2,
     "metadata": {},
     "output_type": "execute_result"
    }
   ],
   "source": [
    "df = pd.read_csv('no_long_lat_nulls_2023.csv')\n",
    "df.head()\n"
   ]
  },
  {
   "cell_type": "markdown",
   "metadata": {},
   "source": [
    "#### Now we will calculate the crime rate using crimes per 1000 people rather than within an area "
   ]
  },
  {
   "cell_type": "code",
   "execution_count": 3,
   "metadata": {},
   "outputs": [],
   "source": [
    "lsoa_map = gpd.read_file('./lsoa_shape/infuse_lsoa_lyr_2011.shp')"
   ]
  },
  {
   "cell_type": "code",
   "execution_count": 4,
   "metadata": {},
   "outputs": [
    {
     "data": {
      "text/html": [
       "<div>\n",
       "<style scoped>\n",
       "    .dataframe tbody tr th:only-of-type {\n",
       "        vertical-align: middle;\n",
       "    }\n",
       "\n",
       "    .dataframe tbody tr th {\n",
       "        vertical-align: top;\n",
       "    }\n",
       "\n",
       "    .dataframe thead th {\n",
       "        text-align: right;\n",
       "    }\n",
       "</style>\n",
       "<table border=\"1\" class=\"dataframe\">\n",
       "  <thead>\n",
       "    <tr style=\"text-align: right;\">\n",
       "      <th></th>\n",
       "      <th>geo_code</th>\n",
       "      <th>geo_label</th>\n",
       "      <th>geo_labelw</th>\n",
       "      <th>label</th>\n",
       "      <th>name</th>\n",
       "      <th>geometry</th>\n",
       "    </tr>\n",
       "  </thead>\n",
       "  <tbody>\n",
       "    <tr>\n",
       "      <th>0</th>\n",
       "      <td>E01003513</td>\n",
       "      <td>Newham 035D</td>\n",
       "      <td>None</td>\n",
       "      <td>E92000001E09000025E01003513</td>\n",
       "      <td>Newham 035D</td>\n",
       "      <td>POLYGON ((541893.189 181249.621, 541900.568 18...</td>\n",
       "    </tr>\n",
       "    <tr>\n",
       "      <th>1</th>\n",
       "      <td>E01031647</td>\n",
       "      <td>Horsham 002D</td>\n",
       "      <td>None</td>\n",
       "      <td>E92000001E07000227E01031647</td>\n",
       "      <td>Horsham 002D</td>\n",
       "      <td>POLYGON ((518376.682 132574.695, 518375.785 13...</td>\n",
       "    </tr>\n",
       "    <tr>\n",
       "      <th>2</th>\n",
       "      <td>E01022006</td>\n",
       "      <td>Tendring 002C</td>\n",
       "      <td>None</td>\n",
       "      <td>E92000001E07000076E01022006</td>\n",
       "      <td>Tendring 002C</td>\n",
       "      <td>POLYGON ((623754.716 231042.037, 623759.750 23...</td>\n",
       "    </tr>\n",
       "    <tr>\n",
       "      <th>3</th>\n",
       "      <td>E01001159</td>\n",
       "      <td>Croydon 002C</td>\n",
       "      <td>None</td>\n",
       "      <td>E92000001E09000008E01001159</td>\n",
       "      <td>Croydon 002C</td>\n",
       "      <td>POLYGON ((532233.977 170474.976, 532229.824 17...</td>\n",
       "    </tr>\n",
       "    <tr>\n",
       "      <th>4</th>\n",
       "      <td>E01008088</td>\n",
       "      <td>Sheffield 012B</td>\n",
       "      <td>None</td>\n",
       "      <td>E92000001E08000019E01008088</td>\n",
       "      <td>Sheffield 012B</td>\n",
       "      <td>POLYGON ((433539.233 392096.845, 433539.125 39...</td>\n",
       "    </tr>\n",
       "  </tbody>\n",
       "</table>\n",
       "</div>"
      ],
      "text/plain": [
       "    geo_code       geo_label geo_labelw                        label  \\\n",
       "0  E01003513     Newham 035D       None  E92000001E09000025E01003513   \n",
       "1  E01031647    Horsham 002D       None  E92000001E07000227E01031647   \n",
       "2  E01022006   Tendring 002C       None  E92000001E07000076E01022006   \n",
       "3  E01001159    Croydon 002C       None  E92000001E09000008E01001159   \n",
       "4  E01008088  Sheffield 012B       None  E92000001E08000019E01008088   \n",
       "\n",
       "             name                                           geometry  \n",
       "0     Newham 035D  POLYGON ((541893.189 181249.621, 541900.568 18...  \n",
       "1    Horsham 002D  POLYGON ((518376.682 132574.695, 518375.785 13...  \n",
       "2   Tendring 002C  POLYGON ((623754.716 231042.037, 623759.750 23...  \n",
       "3    Croydon 002C  POLYGON ((532233.977 170474.976, 532229.824 17...  \n",
       "4  Sheffield 012B  POLYGON ((433539.233 392096.845, 433539.125 39...  "
      ]
     },
     "execution_count": 4,
     "metadata": {},
     "output_type": "execute_result"
    }
   ],
   "source": [
    "lsoa_map.head()\n"
   ]
  },
  {
   "cell_type": "code",
   "execution_count": 5,
   "metadata": {},
   "outputs": [
    {
     "name": "stdout",
     "output_type": "stream",
     "text": [
      "EPSG:27700\n"
     ]
    }
   ],
   "source": [
    "print(lsoa_map.crs)\n"
   ]
  },
  {
   "cell_type": "code",
   "execution_count": 6,
   "metadata": {},
   "outputs": [
    {
     "name": "stdout",
     "output_type": "stream",
     "text": [
      "The LSOA code for the entered location is: E01014399\n"
     ]
    }
   ],
   "source": [
    "# Define a transformer to convert from WGS 84 (EPSG:4326 used by google maps) to British National Grid (EPSG:27700)\n",
    "transformer = Transformer.from_crs(\"EPSG:4326\", \"EPSG:27700\", always_xy=True)\n",
    "\n",
    "def find_lsoa(longitude, latitude):\n",
    "    # Transform the coordinates from longitude, latitude to British National Grid\n",
    "    new_longitude, new_latitude = transformer.transform(longitude, latitude)\n",
    "    \n",
    "    # Create a point from the transformed longitude and latitude\n",
    "    point = Point(new_longitude, new_latitude)\n",
    "    \n",
    "    # Find the LSOA which contains the point\n",
    "    containing_lsoa = lsoa_map[lsoa_map.geometry.contains(point)]\n",
    "    \n",
    "    # Check if any LSOA was found\n",
    "    if not containing_lsoa.empty:\n",
    "        return containing_lsoa\n",
    "    else:\n",
    "        return \"No LSOA found for the given coordinates.\"\n",
    "\n",
    "# Example usage\n",
    "longitude = -2.491616\t\n",
    "latitude = 51.424619\n",
    "result = find_lsoa(longitude, latitude)\n",
    "lsoa_code = result.iloc[0]['geo_code']\n",
    "print(\"The LSOA code for the entered location is:\", lsoa_code)\n"
   ]
  },
  {
   "cell_type": "code",
   "execution_count": 7,
   "metadata": {},
   "outputs": [],
   "source": [
    "lsoa_population_df = pd.read_excel('sapelsoabroadagetablefinal.xlsx', sheet_name='Mid-2022 LSOA 2021')\n",
    "\n"
   ]
  },
  {
   "cell_type": "code",
   "execution_count": 8,
   "metadata": {},
   "outputs": [
    {
     "data": {
      "text/html": [
       "<div>\n",
       "<style scoped>\n",
       "    .dataframe tbody tr th:only-of-type {\n",
       "        vertical-align: middle;\n",
       "    }\n",
       "\n",
       "    .dataframe tbody tr th {\n",
       "        vertical-align: top;\n",
       "    }\n",
       "\n",
       "    .dataframe thead th {\n",
       "        text-align: right;\n",
       "    }\n",
       "</style>\n",
       "<table border=\"1\" class=\"dataframe\">\n",
       "  <thead>\n",
       "    <tr style=\"text-align: right;\">\n",
       "      <th></th>\n",
       "      <th>LAD 2021 Code</th>\n",
       "      <th>LAD 2021 Name</th>\n",
       "      <th>LSOA 2021 Code</th>\n",
       "      <th>LSOA 2021 Name</th>\n",
       "      <th>Total</th>\n",
       "      <th>F0 to 15</th>\n",
       "      <th>F16 to 29</th>\n",
       "      <th>F30 to 44</th>\n",
       "      <th>F45 to 64</th>\n",
       "      <th>F65 and over</th>\n",
       "      <th>M0 to 15</th>\n",
       "      <th>M16 to 29</th>\n",
       "      <th>M30 to 44</th>\n",
       "      <th>M45 to 64</th>\n",
       "      <th>M65 and over</th>\n",
       "    </tr>\n",
       "  </thead>\n",
       "  <tbody>\n",
       "    <tr>\n",
       "      <th>0</th>\n",
       "      <td>E06000001</td>\n",
       "      <td>Hartlepool</td>\n",
       "      <td>E01011949</td>\n",
       "      <td>Hartlepool 009A</td>\n",
       "      <td>1866</td>\n",
       "      <td>185</td>\n",
       "      <td>170</td>\n",
       "      <td>179</td>\n",
       "      <td>266</td>\n",
       "      <td>174</td>\n",
       "      <td>193</td>\n",
       "      <td>175</td>\n",
       "      <td>157</td>\n",
       "      <td>237</td>\n",
       "      <td>130</td>\n",
       "    </tr>\n",
       "    <tr>\n",
       "      <th>1</th>\n",
       "      <td>E06000001</td>\n",
       "      <td>Hartlepool</td>\n",
       "      <td>E01011950</td>\n",
       "      <td>Hartlepool 008A</td>\n",
       "      <td>1094</td>\n",
       "      <td>101</td>\n",
       "      <td>80</td>\n",
       "      <td>103</td>\n",
       "      <td>140</td>\n",
       "      <td>96</td>\n",
       "      <td>101</td>\n",
       "      <td>91</td>\n",
       "      <td>135</td>\n",
       "      <td>166</td>\n",
       "      <td>81</td>\n",
       "    </tr>\n",
       "    <tr>\n",
       "      <th>2</th>\n",
       "      <td>E06000001</td>\n",
       "      <td>Hartlepool</td>\n",
       "      <td>E01011951</td>\n",
       "      <td>Hartlepool 007A</td>\n",
       "      <td>1240</td>\n",
       "      <td>95</td>\n",
       "      <td>124</td>\n",
       "      <td>144</td>\n",
       "      <td>167</td>\n",
       "      <td>92</td>\n",
       "      <td>125</td>\n",
       "      <td>96</td>\n",
       "      <td>138</td>\n",
       "      <td>189</td>\n",
       "      <td>70</td>\n",
       "    </tr>\n",
       "    <tr>\n",
       "      <th>3</th>\n",
       "      <td>E06000001</td>\n",
       "      <td>Hartlepool</td>\n",
       "      <td>E01011952</td>\n",
       "      <td>Hartlepool 002A</td>\n",
       "      <td>1620</td>\n",
       "      <td>192</td>\n",
       "      <td>129</td>\n",
       "      <td>155</td>\n",
       "      <td>208</td>\n",
       "      <td>196</td>\n",
       "      <td>190</td>\n",
       "      <td>110</td>\n",
       "      <td>100</td>\n",
       "      <td>205</td>\n",
       "      <td>135</td>\n",
       "    </tr>\n",
       "    <tr>\n",
       "      <th>4</th>\n",
       "      <td>E06000001</td>\n",
       "      <td>Hartlepool</td>\n",
       "      <td>E01011953</td>\n",
       "      <td>Hartlepool 002B</td>\n",
       "      <td>1979</td>\n",
       "      <td>214</td>\n",
       "      <td>219</td>\n",
       "      <td>191</td>\n",
       "      <td>235</td>\n",
       "      <td>139</td>\n",
       "      <td>289</td>\n",
       "      <td>179</td>\n",
       "      <td>160</td>\n",
       "      <td>228</td>\n",
       "      <td>125</td>\n",
       "    </tr>\n",
       "  </tbody>\n",
       "</table>\n",
       "</div>"
      ],
      "text/plain": [
       "  LAD 2021 Code LAD 2021 Name LSOA 2021 Code   LSOA 2021 Name  Total  \\\n",
       "0     E06000001    Hartlepool      E01011949  Hartlepool 009A   1866   \n",
       "1     E06000001    Hartlepool      E01011950  Hartlepool 008A   1094   \n",
       "2     E06000001    Hartlepool      E01011951  Hartlepool 007A   1240   \n",
       "3     E06000001    Hartlepool      E01011952  Hartlepool 002A   1620   \n",
       "4     E06000001    Hartlepool      E01011953  Hartlepool 002B   1979   \n",
       "\n",
       "   F0 to 15  F16 to 29  F30 to 44  F45 to 64  F65 and over  M0 to 15  \\\n",
       "0       185        170        179        266           174       193   \n",
       "1       101         80        103        140            96       101   \n",
       "2        95        124        144        167            92       125   \n",
       "3       192        129        155        208           196       190   \n",
       "4       214        219        191        235           139       289   \n",
       "\n",
       "   M16 to 29  M30 to 44  M45 to 64  M65 and over  \n",
       "0        175        157        237           130  \n",
       "1         91        135        166            81  \n",
       "2         96        138        189            70  \n",
       "3        110        100        205           135  \n",
       "4        179        160        228           125  "
      ]
     },
     "execution_count": 8,
     "metadata": {},
     "output_type": "execute_result"
    }
   ],
   "source": [
    "lsoa_population_df.head()"
   ]
  },
  {
   "cell_type": "code",
   "execution_count": 9,
   "metadata": {},
   "outputs": [
    {
     "data": {
      "text/html": [
       "<div>\n",
       "<style scoped>\n",
       "    .dataframe tbody tr th:only-of-type {\n",
       "        vertical-align: middle;\n",
       "    }\n",
       "\n",
       "    .dataframe tbody tr th {\n",
       "        vertical-align: top;\n",
       "    }\n",
       "\n",
       "    .dataframe thead th {\n",
       "        text-align: right;\n",
       "    }\n",
       "</style>\n",
       "<table border=\"1\" class=\"dataframe\">\n",
       "  <thead>\n",
       "    <tr style=\"text-align: right;\">\n",
       "      <th></th>\n",
       "      <th>LSOA 2021 Code</th>\n",
       "      <th>Total</th>\n",
       "    </tr>\n",
       "  </thead>\n",
       "  <tbody>\n",
       "    <tr>\n",
       "      <th>0</th>\n",
       "      <td>E01011949</td>\n",
       "      <td>1866</td>\n",
       "    </tr>\n",
       "    <tr>\n",
       "      <th>1</th>\n",
       "      <td>E01011950</td>\n",
       "      <td>1094</td>\n",
       "    </tr>\n",
       "    <tr>\n",
       "      <th>2</th>\n",
       "      <td>E01011951</td>\n",
       "      <td>1240</td>\n",
       "    </tr>\n",
       "    <tr>\n",
       "      <th>3</th>\n",
       "      <td>E01011952</td>\n",
       "      <td>1620</td>\n",
       "    </tr>\n",
       "    <tr>\n",
       "      <th>4</th>\n",
       "      <td>E01011953</td>\n",
       "      <td>1979</td>\n",
       "    </tr>\n",
       "  </tbody>\n",
       "</table>\n",
       "</div>"
      ],
      "text/plain": [
       "  LSOA 2021 Code  Total\n",
       "0      E01011949   1866\n",
       "1      E01011950   1094\n",
       "2      E01011951   1240\n",
       "3      E01011952   1620\n",
       "4      E01011953   1979"
      ]
     },
     "execution_count": 9,
     "metadata": {},
     "output_type": "execute_result"
    }
   ],
   "source": [
    "lsoa_population_df = lsoa_population_df[['LSOA 2021 Code', 'Total']]\n",
    "lsoa_population_df.head()"
   ]
  },
  {
   "cell_type": "code",
   "execution_count": 10,
   "metadata": {},
   "outputs": [],
   "source": [
    "# Count crimes per LSOA code\n",
    "crime_counts = df.groupby('LSOA code').size().reset_index(name='Crime count')"
   ]
  },
  {
   "cell_type": "code",
   "execution_count": 11,
   "metadata": {},
   "outputs": [
    {
     "data": {
      "text/html": [
       "<div>\n",
       "<style scoped>\n",
       "    .dataframe tbody tr th:only-of-type {\n",
       "        vertical-align: middle;\n",
       "    }\n",
       "\n",
       "    .dataframe tbody tr th {\n",
       "        vertical-align: top;\n",
       "    }\n",
       "\n",
       "    .dataframe thead th {\n",
       "        text-align: right;\n",
       "    }\n",
       "</style>\n",
       "<table border=\"1\" class=\"dataframe\">\n",
       "  <thead>\n",
       "    <tr style=\"text-align: right;\">\n",
       "      <th></th>\n",
       "      <th>LSOA 2021 Code</th>\n",
       "      <th>Total</th>\n",
       "      <th>LSOA code</th>\n",
       "      <th>Crime count</th>\n",
       "    </tr>\n",
       "  </thead>\n",
       "  <tbody>\n",
       "    <tr>\n",
       "      <th>0</th>\n",
       "      <td>E01011949</td>\n",
       "      <td>1866</td>\n",
       "      <td>E01011949</td>\n",
       "      <td>272.0</td>\n",
       "    </tr>\n",
       "    <tr>\n",
       "      <th>1</th>\n",
       "      <td>E01011950</td>\n",
       "      <td>1094</td>\n",
       "      <td>E01011950</td>\n",
       "      <td>547.0</td>\n",
       "    </tr>\n",
       "    <tr>\n",
       "      <th>2</th>\n",
       "      <td>E01011951</td>\n",
       "      <td>1240</td>\n",
       "      <td>E01011951</td>\n",
       "      <td>565.0</td>\n",
       "    </tr>\n",
       "    <tr>\n",
       "      <th>3</th>\n",
       "      <td>E01011952</td>\n",
       "      <td>1620</td>\n",
       "      <td>E01011952</td>\n",
       "      <td>430.0</td>\n",
       "    </tr>\n",
       "    <tr>\n",
       "      <th>4</th>\n",
       "      <td>E01011953</td>\n",
       "      <td>1979</td>\n",
       "      <td>E01011953</td>\n",
       "      <td>320.0</td>\n",
       "    </tr>\n",
       "  </tbody>\n",
       "</table>\n",
       "</div>"
      ],
      "text/plain": [
       "  LSOA 2021 Code  Total  LSOA code  Crime count\n",
       "0      E01011949   1866  E01011949        272.0\n",
       "1      E01011950   1094  E01011950        547.0\n",
       "2      E01011951   1240  E01011951        565.0\n",
       "3      E01011952   1620  E01011952        430.0\n",
       "4      E01011953   1979  E01011953        320.0"
      ]
     },
     "execution_count": 11,
     "metadata": {},
     "output_type": "execute_result"
    }
   ],
   "source": [
    "merged_df = pd.merge(lsoa_population_df, crime_counts, left_on='LSOA 2021 Code', right_on='LSOA code', how='left')\n",
    "merged_df.head()\n"
   ]
  },
  {
   "cell_type": "code",
   "execution_count": 12,
   "metadata": {},
   "outputs": [
    {
     "data": {
      "text/plain": [
       "LSOA 2021 Code       0\n",
       "Total                0\n",
       "LSOA code         1360\n",
       "Crime count       1360\n",
       "dtype: int64"
      ]
     },
     "execution_count": 12,
     "metadata": {},
     "output_type": "execute_result"
    }
   ],
   "source": [
    "merged_df.isnull().sum()\n"
   ]
  },
  {
   "cell_type": "code",
   "execution_count": 13,
   "metadata": {},
   "outputs": [
    {
     "data": {
      "text/plain": [
       "Total          0\n",
       "LSOA code      0\n",
       "Crime count    0\n",
       "dtype: int64"
      ]
     },
     "execution_count": 13,
     "metadata": {},
     "output_type": "execute_result"
    }
   ],
   "source": [
    "merged_df = merged_df.dropna(subset=['LSOA code'])\n",
    "merged_df = merged_df.drop(columns=['LSOA 2021 Code'])\n",
    "merged_df.isnull().sum()\n"
   ]
  },
  {
   "cell_type": "code",
   "execution_count": 14,
   "metadata": {},
   "outputs": [
    {
     "data": {
      "text/html": [
       "<div>\n",
       "<style scoped>\n",
       "    .dataframe tbody tr th:only-of-type {\n",
       "        vertical-align: middle;\n",
       "    }\n",
       "\n",
       "    .dataframe tbody tr th {\n",
       "        vertical-align: top;\n",
       "    }\n",
       "\n",
       "    .dataframe thead th {\n",
       "        text-align: right;\n",
       "    }\n",
       "</style>\n",
       "<table border=\"1\" class=\"dataframe\">\n",
       "  <thead>\n",
       "    <tr style=\"text-align: right;\">\n",
       "      <th></th>\n",
       "      <th>LSOA code</th>\n",
       "      <th>Total population</th>\n",
       "      <th>Crime count</th>\n",
       "    </tr>\n",
       "  </thead>\n",
       "  <tbody>\n",
       "    <tr>\n",
       "      <th>0</th>\n",
       "      <td>E01011949</td>\n",
       "      <td>1866</td>\n",
       "      <td>272.0</td>\n",
       "    </tr>\n",
       "    <tr>\n",
       "      <th>1</th>\n",
       "      <td>E01011950</td>\n",
       "      <td>1094</td>\n",
       "      <td>547.0</td>\n",
       "    </tr>\n",
       "    <tr>\n",
       "      <th>2</th>\n",
       "      <td>E01011951</td>\n",
       "      <td>1240</td>\n",
       "      <td>565.0</td>\n",
       "    </tr>\n",
       "    <tr>\n",
       "      <th>3</th>\n",
       "      <td>E01011952</td>\n",
       "      <td>1620</td>\n",
       "      <td>430.0</td>\n",
       "    </tr>\n",
       "    <tr>\n",
       "      <th>4</th>\n",
       "      <td>E01011953</td>\n",
       "      <td>1979</td>\n",
       "      <td>320.0</td>\n",
       "    </tr>\n",
       "  </tbody>\n",
       "</table>\n",
       "</div>"
      ],
      "text/plain": [
       "   LSOA code  Total population  Crime count\n",
       "0  E01011949              1866        272.0\n",
       "1  E01011950              1094        547.0\n",
       "2  E01011951              1240        565.0\n",
       "3  E01011952              1620        430.0\n",
       "4  E01011953              1979        320.0"
      ]
     },
     "execution_count": 14,
     "metadata": {},
     "output_type": "execute_result"
    }
   ],
   "source": [
    "merged_df = merged_df.rename(columns={'Total': 'Total population'})\n",
    "desired_columns_order = ['LSOA code' ,'Total population', 'Crime count']\n",
    "merged_df = merged_df[desired_columns_order]\n",
    "merged_df.head()"
   ]
  },
  {
   "cell_type": "code",
   "execution_count": 15,
   "metadata": {},
   "outputs": [
    {
     "name": "stdout",
     "output_type": "stream",
     "text": [
      "Crime count is not equal to 0 anywhere.\n"
     ]
    }
   ],
   "source": [
    "if (merged_df['Crime count'] == 0).any():\n",
    "    print(\"There are places where Crime count is equal to 0.\")\n",
    "else:\n",
    "    print(\"Crime count is not equal to 0 anywhere.\")"
   ]
  },
  {
   "cell_type": "code",
   "execution_count": 16,
   "metadata": {},
   "outputs": [
    {
     "data": {
      "text/html": [
       "<div>\n",
       "<style scoped>\n",
       "    .dataframe tbody tr th:only-of-type {\n",
       "        vertical-align: middle;\n",
       "    }\n",
       "\n",
       "    .dataframe tbody tr th {\n",
       "        vertical-align: top;\n",
       "    }\n",
       "\n",
       "    .dataframe thead th {\n",
       "        text-align: right;\n",
       "    }\n",
       "</style>\n",
       "<table border=\"1\" class=\"dataframe\">\n",
       "  <thead>\n",
       "    <tr style=\"text-align: right;\">\n",
       "      <th></th>\n",
       "      <th>Total population</th>\n",
       "      <th>Crime count</th>\n",
       "      <th>Crimes per 1000</th>\n",
       "    </tr>\n",
       "  </thead>\n",
       "  <tbody>\n",
       "    <tr>\n",
       "      <th>count</th>\n",
       "      <td>34312.000000</td>\n",
       "      <td>34312.000000</td>\n",
       "      <td>34312.000000</td>\n",
       "    </tr>\n",
       "    <tr>\n",
       "      <th>mean</th>\n",
       "      <td>1688.888144</td>\n",
       "      <td>166.947394</td>\n",
       "      <td>97.238693</td>\n",
       "    </tr>\n",
       "    <tr>\n",
       "      <th>std</th>\n",
       "      <td>375.579357</td>\n",
       "      <td>240.119856</td>\n",
       "      <td>125.375397</td>\n",
       "    </tr>\n",
       "    <tr>\n",
       "      <th>min</th>\n",
       "      <td>933.000000</td>\n",
       "      <td>1.000000</td>\n",
       "      <td>0.315060</td>\n",
       "    </tr>\n",
       "    <tr>\n",
       "      <th>25%</th>\n",
       "      <td>1443.000000</td>\n",
       "      <td>68.000000</td>\n",
       "      <td>42.065861</td>\n",
       "    </tr>\n",
       "    <tr>\n",
       "      <th>50%</th>\n",
       "      <td>1618.000000</td>\n",
       "      <td>116.000000</td>\n",
       "      <td>69.598944</td>\n",
       "    </tr>\n",
       "    <tr>\n",
       "      <th>75%</th>\n",
       "      <td>1856.000000</td>\n",
       "      <td>196.000000</td>\n",
       "      <td>115.735262</td>\n",
       "    </tr>\n",
       "    <tr>\n",
       "      <th>max</th>\n",
       "      <td>9588.000000</td>\n",
       "      <td>12613.000000</td>\n",
       "      <td>6915.021930</td>\n",
       "    </tr>\n",
       "  </tbody>\n",
       "</table>\n",
       "</div>"
      ],
      "text/plain": [
       "       Total population   Crime count  Crimes per 1000\n",
       "count      34312.000000  34312.000000     34312.000000\n",
       "mean        1688.888144    166.947394        97.238693\n",
       "std          375.579357    240.119856       125.375397\n",
       "min          933.000000      1.000000         0.315060\n",
       "25%         1443.000000     68.000000        42.065861\n",
       "50%         1618.000000    116.000000        69.598944\n",
       "75%         1856.000000    196.000000       115.735262\n",
       "max         9588.000000  12613.000000      6915.021930"
      ]
     },
     "execution_count": 16,
     "metadata": {},
     "output_type": "execute_result"
    }
   ],
   "source": [
    "merged_df['Crimes per 1000'] = (merged_df['Crime count'] / merged_df['Total population']) * 1000\n",
    "merged_df.describe()"
   ]
  },
  {
   "cell_type": "code",
   "execution_count": 17,
   "metadata": {},
   "outputs": [
    {
     "data": {
      "text/html": [
       "<div>\n",
       "<style scoped>\n",
       "    .dataframe tbody tr th:only-of-type {\n",
       "        vertical-align: middle;\n",
       "    }\n",
       "\n",
       "    .dataframe tbody tr th {\n",
       "        vertical-align: top;\n",
       "    }\n",
       "\n",
       "    .dataframe thead th {\n",
       "        text-align: right;\n",
       "    }\n",
       "</style>\n",
       "<table border=\"1\" class=\"dataframe\">\n",
       "  <thead>\n",
       "    <tr style=\"text-align: right;\">\n",
       "      <th></th>\n",
       "      <th>LSOA code</th>\n",
       "      <th>Total population</th>\n",
       "      <th>Crime count</th>\n",
       "      <th>Crimes per 1000</th>\n",
       "    </tr>\n",
       "  </thead>\n",
       "  <tbody>\n",
       "    <tr>\n",
       "      <th>0</th>\n",
       "      <td>E01011949</td>\n",
       "      <td>1866</td>\n",
       "      <td>272.0</td>\n",
       "      <td>145.766345</td>\n",
       "    </tr>\n",
       "    <tr>\n",
       "      <th>1</th>\n",
       "      <td>E01011950</td>\n",
       "      <td>1094</td>\n",
       "      <td>547.0</td>\n",
       "      <td>500.000000</td>\n",
       "    </tr>\n",
       "    <tr>\n",
       "      <th>2</th>\n",
       "      <td>E01011951</td>\n",
       "      <td>1240</td>\n",
       "      <td>565.0</td>\n",
       "      <td>455.645161</td>\n",
       "    </tr>\n",
       "    <tr>\n",
       "      <th>3</th>\n",
       "      <td>E01011952</td>\n",
       "      <td>1620</td>\n",
       "      <td>430.0</td>\n",
       "      <td>265.432099</td>\n",
       "    </tr>\n",
       "    <tr>\n",
       "      <th>4</th>\n",
       "      <td>E01011953</td>\n",
       "      <td>1979</td>\n",
       "      <td>320.0</td>\n",
       "      <td>161.697827</td>\n",
       "    </tr>\n",
       "  </tbody>\n",
       "</table>\n",
       "</div>"
      ],
      "text/plain": [
       "   LSOA code  Total population  Crime count  Crimes per 1000\n",
       "0  E01011949              1866        272.0       145.766345\n",
       "1  E01011950              1094        547.0       500.000000\n",
       "2  E01011951              1240        565.0       455.645161\n",
       "3  E01011952              1620        430.0       265.432099\n",
       "4  E01011953              1979        320.0       161.697827"
      ]
     },
     "execution_count": 17,
     "metadata": {},
     "output_type": "execute_result"
    }
   ],
   "source": [
    "merged_df.head()"
   ]
  },
  {
   "cell_type": "code",
   "execution_count": null,
   "metadata": {},
   "outputs": [
    {
     "name": "stderr",
     "output_type": "stream",
     "text": [
      "<>:1: SyntaxWarning: invalid escape sequence '\\s'\n",
      "<>:1: SyntaxWarning: invalid escape sequence '\\s'\n",
      "C:\\Users\\lenovo\\AppData\\Local\\Temp\\ipykernel_23172\\393539310.py:1: SyntaxWarning: invalid escape sequence '\\s'\n",
      "  merged_df.to_csv(\"E:\\sherry\\gp\\\\LSOA_code_crime_count.csv\", index=False)\n"
     ]
    }
   ],
   "source": [
    "merged_df.to_csv(\"E:\\sherry\\gp\\\\LSOA_code_crime_count.csv\", index=False)"
   ]
  },
  {
   "cell_type": "code",
   "execution_count": null,
   "metadata": {},
   "outputs": [
    {
     "data": {
      "image/png": "[encoded data removed]",
      "text/plain": [
       "<Figure size 1000x600 with 1 Axes>"
      ]
     },
     "metadata": {},
     "output_type": "display_data"
    }
   ],
   "source": [
    "plt.figure(figsize=(10, 6))\n",
    "plt.hist(merged_df['Crimes per 1000'], bins=30, color='blue', alpha=0.7)\n",
    "plt.title('Histogram of Crimes per 1000 People')\n",
    "plt.xlabel('Crimes per 1000 People')\n",
    "plt.ylabel('Frequency')\n",
    "plt.grid(True)\n",
    "plt.show()"
   ]
  },
  {
   "cell_type": "code",
   "execution_count": null,
   "metadata": {},
   "outputs": [
    {
     "data": {
      "image/png": "[encoded data removed]",
      "text/plain": [
       "<Figure size 1000x600 with 1 Axes>"
      ]
     },
     "metadata": {},
     "output_type": "display_data"
    }
   ],
   "source": [
    "plt.figure(figsize=(10, 6))\n",
    "sns.boxplot(x=merged_df['Crimes per 1000'])\n",
    "plt.title('Boxplot of Crimes per 1000 People')\n",
    "plt.xlabel('Crimes per 1000 People')\n",
    "plt.grid(True)\n",
    "plt.show()"
   ]
  },
  {
   "cell_type": "code",
   "execution_count": null,
   "metadata": {},
   "outputs": [
    {
     "data": {
      "text/plain": [
       "LSOA code            E01004734\n",
       "Total population          1824\n",
       "Crime count            12613.0\n",
       "Crimes per 1000     6915.02193\n",
       "Name: 33709, dtype: object"
      ]
     },
     "execution_count": 46,
     "metadata": {},
     "output_type": "execute_result"
    }
   ],
   "source": [
    "merged_df.loc[merged_df['Crime count'].idxmax()]"
   ]
  },
  {
   "cell_type": "code",
   "execution_count": null,
   "metadata": {},
   "outputs": [
    {
     "data": {
      "image/png": "[encoded data removed]",
      "text/plain": [
       "<Figure size 1000x600 with 1 Axes>"
      ]
     },
     "metadata": {},
     "output_type": "display_data"
    }
   ],
   "source": [
    "plt.figure(figsize=(10, 6))\n",
    "sns.kdeplot(merged_df['Crimes per 1000'], fill=True)\n",
    "plt.title('Density Plot of Crimes per 1000 People')\n",
    "plt.xlabel('Crimes per 1000 People')\n",
    "plt.grid(True)\n",
    "plt.show()"
   ]
  },
  {
   "cell_type": "code",
   "execution_count": null,
   "metadata": {},
   "outputs": [
    {
     "name": "stdout",
     "output_type": "stream",
     "text": [
      "Crime Rate Thresholds:\n",
      "Very Low Crime: <= 37.484700341790536\n",
      "Low Crime: > 37.484700341790536 and <= 57.38737955096794\n",
      "Moderate Crime: > 57.38737955096794 and <= 84.57123998114098\n",
      "High Crime: > 84.57123998114098 and <= 130.50818474077755\n",
      "Very High Crime: > 130.50818474077755\n"
     ]
    }
   ],
   "source": [
    "quantiles = merged_df['Crimes per 1000'].quantile([0.20, 0.40, 0.60, 0.80]).tolist()\n",
    "\n",
    "print(\"Crime Rate Thresholds:\")\n",
    "print(f\"Very Low Crime: <= {quantiles[0]}\")\n",
    "print(f\"Low Crime: > {quantiles[0]} and <= {quantiles[1]}\")\n",
    "print(f\"Moderate Crime: > {quantiles[1]} and <= {quantiles[2]}\")\n",
    "print(f\"High Crime: > {quantiles[2]} and <= {quantiles[3]}\")\n",
    "print(f\"Very High Crime: > {quantiles[3]}\")\n"
   ]
  },
  {
   "cell_type": "code",
   "execution_count": null,
   "metadata": {},
   "outputs": [
    {
     "data": {
      "text/html": [
       "<div>\n",
       "<style scoped>\n",
       "    .dataframe tbody tr th:only-of-type {\n",
       "        vertical-align: middle;\n",
       "    }\n",
       "\n",
       "    .dataframe tbody tr th {\n",
       "        vertical-align: top;\n",
       "    }\n",
       "\n",
       "    .dataframe thead th {\n",
       "        text-align: right;\n",
       "    }\n",
       "</style>\n",
       "<table border=\"1\" class=\"dataframe\">\n",
       "  <thead>\n",
       "    <tr style=\"text-align: right;\">\n",
       "      <th></th>\n",
       "      <th>LSOA code</th>\n",
       "      <th>Total population</th>\n",
       "      <th>Crime count</th>\n",
       "      <th>Crimes per 1000</th>\n",
       "    </tr>\n",
       "  </thead>\n",
       "  <tbody>\n",
       "    <tr>\n",
       "      <th>16591</th>\n",
       "      <td>E01027636</td>\n",
       "      <td>2035</td>\n",
       "      <td>44.0</td>\n",
       "      <td>21.621622</td>\n",
       "    </tr>\n",
       "  </tbody>\n",
       "</table>\n",
       "</div>"
      ],
      "text/plain": [
       "       LSOA code  Total population  Crime count  Crimes per 1000\n",
       "16591  E01027636              2035         44.0        21.621622"
      ]
     },
     "execution_count": 49,
     "metadata": {},
     "output_type": "execute_result"
    }
   ],
   "source": [
    "#test with north yorkshire lsoa code, supposed to be safe and it says so\n",
    "merged_df[merged_df['LSOA code'] == 'E01027636']"
   ]
  }
 ],
 "metadata": {
  "kernelspec": {
   "display_name": "Python 3",
   "language": "python",
   "name": "python3"
  },
  "language_info": {
   "codemirror_mode": {
    "name": "ipython",
    "version": 3
   },
   "file_extension": ".py",
   "mimetype": "text/x-python",
   "name": "python",
   "nbconvert_exporter": "python",
   "pygments_lexer": "ipython3",
   "version": "3.12.0"
  }
 },
 "nbformat": 4,
 "nbformat_minor": 2
}
