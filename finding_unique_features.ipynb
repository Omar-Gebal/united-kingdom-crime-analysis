{
 "cells": [
  {
   "cell_type": "code",
   "execution_count": 1,
   "metadata": {},
   "outputs": [],
   "source": [
    "import os\n",
    "import pandas as pd"
   ]
  },
  {
   "cell_type": "code",
   "execution_count": 2,
   "metadata": {},
   "outputs": [],
   "source": [
    "expected_columns = set([\n",
    "    \"Crime ID\", \"Month\", \"Reported by\", \"Falls within\", \"Longitude\", \n",
    "    \"Latitude\", \"Location\", \"LSOA code\", \"LSOA name\", \"Crime type\", \n",
    "    \"Last outcome category\", \"Context\"\n",
    "])"
   ]
  },
  {
   "cell_type": "code",
   "execution_count": 3,
   "metadata": {},
   "outputs": [],
   "source": [
    "def check_csv_columns(file_path):\n",
    "    try:\n",
    "        df = pd.read_csv(file_path)\n",
    "        extra_columns = set(df.columns) - expected_columns\n",
    "        if extra_columns:\n",
    "            print(f\"File '{file_path}' has extra columns: {extra_columns}\")\n",
    "    except Exception as e:\n",
    "        print(f\"Failed to process file '{file_path}': {e}\")\n"
   ]
  },
  {
   "cell_type": "code",
   "execution_count": 4,
   "metadata": {},
   "outputs": [
    {
     "name": "stderr",
     "output_type": "stream",
     "text": [
      "<>:1: SyntaxWarning: invalid escape sequence '\\s'\n",
      "<>:1: SyntaxWarning: invalid escape sequence '\\s'\n",
      "C:\\Users\\lenovo\\AppData\\Local\\Temp\\ipykernel_14652\\3976005566.py:1: SyntaxWarning: invalid escape sequence '\\s'\n",
      "  folder = 'E:\\sherry\\gp\\data-2023'\n"
     ]
    }
   ],
   "source": [
    "folder = 'E:\\sherry\\gp\\data-2023'"
   ]
  },
  {
   "cell_type": "code",
   "execution_count": 5,
   "metadata": {},
   "outputs": [],
   "source": [
    "for filename in os.listdir(folder):\n",
    "        file_path = os.path.join(folder, filename)\n",
    "        if file_path.endswith('.csv'):\n",
    "            check_csv_columns(file_path)\n"
   ]
  },
  {
   "cell_type": "markdown",
   "metadata": {},
   "source": [
    "There are no extra feautures in any of the datasets\n"
   ]
  }
 ],
 "metadata": {
  "kernelspec": {
   "display_name": "Python 3",
   "language": "python",
   "name": "python3"
  },
  "language_info": {
   "codemirror_mode": {
    "name": "ipython",
    "version": 3
   },
   "file_extension": ".py",
   "mimetype": "text/x-python",
   "name": "python",
   "nbconvert_exporter": "python",
   "pygments_lexer": "ipython3",
   "version": "3.12.0"
  }
 },
 "nbformat": 4,
 "nbformat_minor": 2
}
